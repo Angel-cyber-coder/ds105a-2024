{
 "cells": [
  {
   "cell_type": "code",
   "execution_count": 1,
   "metadata": {},
   "outputs": [],
   "source": [
    "import os\n",
    "\n",
    "import pandas as pd"
   ]
  },
  {
   "cell_type": "markdown",
   "metadata": {},
   "source": [
    "# 1. Read all CSV files into a single data frame"
   ]
  },
  {
   "cell_type": "code",
   "execution_count": 2,
   "metadata": {},
   "outputs": [
    {
     "name": "stdout",
     "output_type": "stream",
     "text": [
      "<class 'pandas.core.frame.DataFrame'>\n",
      "Index: 25418 entries, 0 to 1593\n",
      "Data columns (total 13 columns):\n",
      " #   Column                 Non-Null Count  Dtype  \n",
      "---  ------                 --------------  -----  \n",
      " 0   data-product-id        25418 non-null  int64  \n",
      " 1   data-product-name      25418 non-null  object \n",
      " 2   data-product-type      25418 non-null  object \n",
      " 3   data-product-on-offer  25418 non-null  bool   \n",
      " 4   data-product-index     25408 non-null  float64\n",
      " 5   image-url              25418 non-null  object \n",
      " 6   product-page           25418 non-null  object \n",
      " 7   product-name           25407 non-null  object \n",
      " 8   product-size           25363 non-null  object \n",
      " 9   item-price             25407 non-null  object \n",
      " 10  price-per-unit         24976 non-null  object \n",
      " 11  offer-description      7201 non-null   object \n",
      " 12  category               25418 non-null  object \n",
      "dtypes: bool(1), float64(1), int64(1), object(10)\n",
      "memory usage: 2.5+ MB\n"
     ]
    }
   ],
   "source": [
    "# Identify the location of the original files\n",
    "# This represents the path: ../data/waitrose-2024-07\n",
    "data_folder = os.path.join('..', 'data', 'waitrose-2024-07')\n",
    "\n",
    "# Use a list comprehension to get all the files in the folder\n",
    "all_files = [os.path.join(data_folder, file) for file in os.listdir(data_folder) \n",
    "             if file.endswith('.csv')]\n",
    "\n",
    "# Print the list of files if you want to check\n",
    "# print(all_files)\n",
    "\n",
    "# Read every single file as a DataFrame\n",
    "# Save the dataframes in a list\n",
    "list_of_dfs = [pd.read_csv(file) for file in all_files]\n",
    "\n",
    "# Use pd.concat to concatenate all the files into a single DataFrame\n",
    "df = pd.concat(list_of_dfs)\n",
    "\n",
    "# Check that we have all the data\n",
    "df.info()"
   ]
  },
  {
   "cell_type": "markdown",
   "metadata": {},
   "source": [
    "# 2. Exploring the `item-price` column\n",
    "\n",
    "<div style=\"background-color:white;padding:0.5em;margin-left:0em;margin-bottom:1em;border-radius:0.5em;font-family: monospace;border: 1px solid #eda291;font-size:0.9em;width:70%;line-height:1em\">\n",
    "\n",
    "**What did I learn? What are the different formatting scenarios?**\n",
    "\n",
    "1. Some numbers are in the format `£10.00` (with the pound symbol)\n",
    "    - I just need to remove the pound symbol from those \n",
    "    - 96% of the data was in this format\n",
    "2. Some are in the format `75p` (indicating pences)\n",
    "    - Those I need to convert to `0.75`\n",
    "    - 3% of the data was in this format\n",
    "3. There are cases with `each est.`\n",
    "\n",
    "**Problems I found along the way**\n",
    "\n",
    "- Before any pre-processing, I tried `df['item-price'].astype(float)` but, of course, it threw an error. That's how I started to discover the formatting scenarios above.\n",
    "\n",
    "- I created a first version of the `clean_item_price()` function that removed the `£` with the method `\"some_string\".replace(\"£\", \"\")` \n",
    "    - I learned about `replace()` from previous weeks, but I also found it on the Python's official documentation [here](https://docs.python.org/3/library/stdtypes.html#str.replace).\n",
    "\n",
    "- But then I got an error saying that a float does not have the `replace()` method. I fixed it by forcing the `item_price` variable in the function to a string.\n",
    "    - `replace()` is only defined for string objects.\n",
    "\n",
    "</div>"
   ]
  },
  {
   "cell_type": "code",
   "execution_count": 3,
   "metadata": {},
   "outputs": [
    {
     "data": {
      "text/plain": [
       "dtype('O')"
      ]
     },
     "execution_count": 3,
     "metadata": {},
     "output_type": "execute_result"
    }
   ],
   "source": [
    "# The data type of this column is 'O' (object)\n",
    "df['item-price'].dtype"
   ]
  },
  {
   "cell_type": "markdown",
   "metadata": {},
   "source": [
    "⚠️ When a column (a pd.Series) is of type object, this means that pandas could not discern a specific data type (numeric types, boolean, datetime, etc) for this column. Frequently, this means the data is a string, but it could be that some objects are strings, others are numbers, others are something else. \n",
    "\n",
    "**To treat this column as a column of strings, I will have to convert each element to a string explicitly with the `str()` method, or the entire column with `astype(str)`**"
   ]
  },
  {
   "cell_type": "markdown",
   "metadata": {},
   "source": [
    "## Validation\n",
    "\n",
    "How do I know if the column can be converted to floats?\n",
    "\n",
    "I used the `pandas.Series.astype(float)` function: \n",
    "\n",
    "\n",
    "```python\n",
    "# This is a way to validate if my column can be converted to float\n",
    "# If the column is clean, this will not throw an error\n",
    "df['item-price'].astype(float)\n",
    "```\n",
    "\n",
    "```python\n",
    "ValueError: could not convert string to float: '£10.00'\n",
    "```"
   ]
  },
  {
   "cell_type": "markdown",
   "metadata": {},
   "source": [
    "GitHub Copilot pointed me an alternative way to check for errors in the conversion using AI.\n",
    "\n",
    "I like this one as it doesn't throw any errors:"
   ]
  },
  {
   "cell_type": "code",
   "execution_count": 5,
   "metadata": {},
   "outputs": [
    {
     "name": "stdout",
     "output_type": "stream",
     "text": [
      "100.00% of the column cannot be directly converted to a float.\n"
     ]
    }
   ],
   "source": [
    "# Alternatively, I could check for errors like this:\n",
    "\n",
    "total_invalid_numbers = pd.to_numeric(df['item-price'], errors='coerce').isna().sum()\n",
    "ratio_invalid_numbers = 100*(total_invalid_numbers/len(df))\n",
    "\n",
    "print(f\"{ratio_invalid_numbers:.2f}% of the column cannot be directly converted to a float.\")"
   ]
  },
  {
   "cell_type": "markdown",
   "metadata": {},
   "source": [
    "## A fix for the problem"
   ]
  },
  {
   "cell_type": "code",
   "execution_count": 7,
   "metadata": {},
   "outputs": [],
   "source": [
    "def clean_item_price(item_price: str): \n",
    "\n",
    "    # Force the item_price to be a string before doing anything else\n",
    "    item_price = str(item_price)\n",
    "\n",
    "    if '£' in item_price:\n",
    "        # For example: item_price = '£1.99' --> '1.99'\n",
    "        new_item_price = item_price.replace('£', '')\n",
    "    elif item_price.endswith('p'):\n",
    "        # For example: item_price = '75p' --> '0.75p'\n",
    "        new_item_price = '0.' + item_price.replace('p', '')\n",
    "    else:\n",
    "        # Keep it as is and hope it doesn't throw any new errors\n",
    "        new_item_price = item_price\n",
    "    \n",
    "    return new_item_price"
   ]
  },
  {
   "cell_type": "markdown",
   "metadata": {},
   "source": [
    "Checking that the function above works for individual cases:"
   ]
  },
  {
   "cell_type": "code",
   "execution_count": 8,
   "metadata": {},
   "outputs": [
    {
     "data": {
      "text/plain": [
       "'1.99'"
      ]
     },
     "execution_count": 8,
     "metadata": {},
     "output_type": "execute_result"
    }
   ],
   "source": [
    "clean_item_price('£1.99')"
   ]
  },
  {
   "cell_type": "code",
   "execution_count": 9,
   "metadata": {},
   "outputs": [
    {
     "data": {
      "text/plain": [
       "'0.75'"
      ]
     },
     "execution_count": 9,
     "metadata": {},
     "output_type": "execute_result"
    }
   ],
   "source": [
    "clean_item_price('75p')"
   ]
  },
  {
   "cell_type": "markdown",
   "metadata": {},
   "source": [
    "## Validation (again)\n",
    "\n",
    "- Use the `apply()` function to modify all the elements of the column.\n",
    "- Save the output to a separate Series\n",
    "- Check how many elements of that new Series is now free of errors when converting to floats"
   ]
  },
  {
   "cell_type": "code",
   "execution_count": 11,
   "metadata": {},
   "outputs": [
    {
     "name": "stdout",
     "output_type": "stream",
     "text": [
      "1.70% of the column cannot be directly converted to a float.\n"
     ]
    }
   ],
   "source": [
    "# Alternatively, I could check for errors like this:\n",
    "\n",
    "new_item_price = df['item-price'].apply(clean_item_price)\n",
    "\n",
    "total_invalid_numbers = pd.to_numeric(new_item_price, errors='coerce').isna().sum()\n",
    "ratio_invalid_numbers = 100*(total_invalid_numbers/len(df))\n",
    "\n",
    "print(f\"{ratio_invalid_numbers:.2f}% of the column cannot be directly converted to a float.\")"
   ]
  },
  {
   "cell_type": "markdown",
   "metadata": {},
   "source": [
    "**Success!** Nearly 98% of the data has been clean now!"
   ]
  },
  {
   "cell_type": "markdown",
   "metadata": {},
   "source": [
    "## TODO\n",
    "\n",
    "What are the remaining cases?"
   ]
  },
  {
   "cell_type": "code",
   "execution_count": 12,
   "metadata": {},
   "outputs": [
    {
     "data": {
      "text/plain": [
       "0       False\n",
       "1       False\n",
       "2       False\n",
       "3       False\n",
       "4       False\n",
       "        ...  \n",
       "1589     True\n",
       "1590    False\n",
       "1591    False\n",
       "1592    False\n",
       "1593    False\n",
       "Name: item-price, Length: 25418, dtype: bool"
      ]
     },
     "execution_count": 12,
     "metadata": {},
     "output_type": "execute_result"
    }
   ],
   "source": [
    "# Returns a boolean Series (just Trues and Falses)\n",
    "# Whenever the output is True: \n",
    "#   it means that when pandas tried to convert it to a numeric, it saw a NaN (not a number)\n",
    "# Whenever the output is False:\n",
    "#   the clean_item_price() function removed the non-numerical characters\n",
    "#   and pandas was able to convert the remaining string to a numerical without an issue\n",
    "problematic_rows = pd.to_numeric(new_item_price, errors='coerce').isna()\n",
    "\n",
    "# See how this looks like\n",
    "problematic_rows"
   ]
  },
  {
   "cell_type": "markdown",
   "metadata": {},
   "source": [
    "How does df['item-price'] looks like for cases where `problematic_rows == True`?  "
   ]
  },
  {
   "cell_type": "code",
   "execution_count": 16,
   "metadata": {},
   "outputs": [
    {
     "data": {
      "text/plain": [
       "1615       32p each est.\n",
       "33       £4.76 each est.\n",
       "39         10p each est.\n",
       "65       £4.90 each est.\n",
       "73       £5.99 each est.\n",
       "95      £14.22 each est.\n",
       "101      £6.79 each est.\n",
       "122      £5.64 each est.\n",
       "132      £7.99 each est.\n",
       "135      £2.84 each est.\n",
       "137     £10.29 each est.\n",
       "142      £8.59 each est.\n",
       "158      £4.82 each est.\n",
       "167      £6.67 each est.\n",
       "180      £6.16 each est.\n",
       "193      £4.00 each est.\n",
       "194      £7.85 each est.\n",
       "195     £14.95 each est.\n",
       "200      £6.28 each est.\n",
       "202      £6.67 each est.\n",
       "Name: item-price, dtype: object"
      ]
     },
     "execution_count": 16,
     "metadata": {},
     "output_type": "execute_result"
    }
   ],
   "source": [
    "# Adding each est. to the list of scenarios\n",
    "df['item-price'][problematic_rows == True].head(20)"
   ]
  }
 ],
 "metadata": {
  "kernelspec": {
   "display_name": "base",
   "language": "python",
   "name": "python3"
  },
  "language_info": {
   "codemirror_mode": {
    "name": "ipython",
    "version": 3
   },
   "file_extension": ".py",
   "mimetype": "text/x-python",
   "name": "python",
   "nbconvert_exporter": "python",
   "pygments_lexer": "ipython3",
   "version": "3.10.15"
  }
 },
 "nbformat": 4,
 "nbformat_minor": 2
}
