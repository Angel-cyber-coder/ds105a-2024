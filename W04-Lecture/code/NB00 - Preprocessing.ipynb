{
 "cells": [
  {
   "cell_type": "code",
   "execution_count": 1,
   "metadata": {},
   "outputs": [
    {
     "data": {
      "text/html": [
       "\n",
       "            <div id=\"5nXWAL\"></div>\n",
       "            <script type=\"text/javascript\" data-lets-plot-script=\"library\">\n",
       "                if(!window.letsPlotCallQueue) {\n",
       "                    window.letsPlotCallQueue = [];\n",
       "                }; \n",
       "                window.letsPlotCall = function(f) {\n",
       "                    window.letsPlotCallQueue.push(f);\n",
       "                };\n",
       "                (function() {\n",
       "                    var script = document.createElement(\"script\");\n",
       "                    script.type = \"text/javascript\";\n",
       "                    script.src = \"https://cdn.jsdelivr.net/gh/JetBrains/lets-plot@v4.4.1/js-package/distr/lets-plot.min.js\";\n",
       "                    script.onload = function() {\n",
       "                        window.letsPlotCall = function(f) {f();};\n",
       "                        window.letsPlotCallQueue.forEach(function(f) {f();});\n",
       "                        window.letsPlotCallQueue = [];\n",
       "                        \n",
       "                    };\n",
       "                    script.onerror = function(event) {\n",
       "                        window.letsPlotCall = function(f) {};    // noop\n",
       "                        window.letsPlotCallQueue = [];\n",
       "                        var div = document.createElement(\"div\");\n",
       "                        div.style.color = 'darkred';\n",
       "                        div.textContent = 'Error loading Lets-Plot JS';\n",
       "                        document.getElementById(\"5nXWAL\").appendChild(div);\n",
       "                    };\n",
       "                    var e = document.getElementById(\"5nXWAL\");\n",
       "                    e.appendChild(script);\n",
       "                })()\n",
       "            </script>\n",
       "            "
      ]
     },
     "metadata": {},
     "output_type": "display_data"
    }
   ],
   "source": [
    "import os\n",
    "\n",
    "import numpy as np\n",
    "import pandas as pd\n",
    "\n",
    "from lets_plot import *\n",
    "LetsPlot.setup_html()"
   ]
  },
  {
   "cell_type": "markdown",
   "metadata": {},
   "source": [
    "# 1. Read all CSV files into a single data frame"
   ]
  },
  {
   "cell_type": "code",
   "execution_count": 2,
   "metadata": {},
   "outputs": [
    {
     "name": "stdout",
     "output_type": "stream",
     "text": [
      "<class 'pandas.core.frame.DataFrame'>\n",
      "Index: 25418 entries, 0 to 1593\n",
      "Data columns (total 13 columns):\n",
      " #   Column                 Non-Null Count  Dtype  \n",
      "---  ------                 --------------  -----  \n",
      " 0   data-product-id        25418 non-null  int64  \n",
      " 1   data-product-name      25418 non-null  object \n",
      " 2   data-product-type      25418 non-null  object \n",
      " 3   data-product-on-offer  25418 non-null  bool   \n",
      " 4   data-product-index     25408 non-null  float64\n",
      " 5   image-url              25418 non-null  object \n",
      " 6   product-page           25418 non-null  object \n",
      " 7   product-name           25407 non-null  object \n",
      " 8   product-size           25363 non-null  object \n",
      " 9   item-price             25407 non-null  object \n",
      " 10  price-per-unit         24976 non-null  object \n",
      " 11  offer-description      7201 non-null   object \n",
      " 12  category               25418 non-null  object \n",
      "dtypes: bool(1), float64(1), int64(1), object(10)\n",
      "memory usage: 2.5+ MB\n"
     ]
    }
   ],
   "source": [
    "# Identify the location of the original files\n",
    "# This represents the path: ../data/waitrose-2024-07\n",
    "data_folder = os.path.join('..', 'data', 'waitrose-2024-07')\n",
    "\n",
    "# Use a list comprehension to get all the files in the folder\n",
    "all_files = [os.path.join(data_folder, file) for file in os.listdir(data_folder) \n",
    "             if file.endswith('.csv')]\n",
    "\n",
    "# Print the list of files if you want to check\n",
    "# print(all_files)\n",
    "\n",
    "# Read every single file as a DataFrame\n",
    "# Save the dataframes in a list\n",
    "list_of_dfs = [pd.read_csv(file) for file in all_files]\n",
    "\n",
    "# Use pd.concat to concatenate all the files into a single DataFrame\n",
    "df = pd.concat(list_of_dfs)\n",
    "\n",
    "# Check that we have all the data\n",
    "df.info()"
   ]
  },
  {
   "cell_type": "markdown",
   "metadata": {},
   "source": [
    "# 2. Exploring the `item-price` column\n",
    "\n",
    "<div style=\"background-color:white;padding:0.5em;margin-left:0em;margin-bottom:1em;border-radius:0.5em;font-family: monospace;border: 1px solid #eda291;font-size:0.9em;width:70%;line-height:1em\">\n",
    "\n",
    "**What did I learn? What are the different formatting scenarios?**\n",
    "\n",
    "1. Some numbers are in the format `£10.00` (with the pound symbol)\n",
    "    - I just need to remove the pound symbol from those \n",
    "    - 96% of the data was in this format\n",
    "\n",
    "2. Some are in the format `75p` (indicating pences)\n",
    "    - Those I need to convert to `0.75`\n",
    "    - 3% of the data was in this format\n",
    "\n",
    "3. There are cases with `each est.` \n",
    "    - Examples: `£4.76 each est.` and `10p each est.`\n",
    "    - If I remove the `' each est.'` string first, then the rest of the string can be treated like the other scenarios above.\n",
    "    - 1.5% of the data was in this format\n",
    "\n",
    "4. There are cases with a range of values, like '£55-£110 each est.'\n",
    "    - 0.20% of the cases seem to be in this format\n",
    "\n",
    "5. Finally, there are a few lines with item_price equals to `NaN`. \n",
    "    - This is likely some error in the script that downloaded the data. \n",
    "    - There's nothing we can do but delete these lines from the dataframe\n",
    "\n",
    "**Problems I found along the way**\n",
    "\n",
    "- Before any pre-processing, I tried `df['item-price'].astype(float)` but, of course, it threw an error. That's how I started to discover the formatting scenarios above.\n",
    "\n",
    "- I created a first version of the `clean_item_price()` function that removed the `£` with the method `\"some_string\".replace(\"£\", \"\")` \n",
    "    - I learned about `replace()` from previous weeks, but I also found it on the Python's official documentation [here](https://docs.python.org/3/library/stdtypes.html#str.replace).\n",
    "\n",
    "- But then I got an error saying that a float does not have the `replace()` method. I fixed it by forcing the `item_price` variable in the function to a string.\n",
    "    - `replace()` is only defined for string objects.\n",
    "\n",
    "</div>"
   ]
  },
  {
   "cell_type": "code",
   "execution_count": 3,
   "metadata": {},
   "outputs": [
    {
     "data": {
      "text/plain": [
       "dtype('O')"
      ]
     },
     "execution_count": 3,
     "metadata": {},
     "output_type": "execute_result"
    }
   ],
   "source": [
    "# The data type of this column is 'O' (object)\n",
    "df['item-price'].dtype"
   ]
  },
  {
   "cell_type": "markdown",
   "metadata": {},
   "source": [
    "⚠️ When a column (a pd.Series) is of type object, this means that pandas could not discern a specific data type (numeric types, boolean, datetime, etc) for this column. Frequently, this means the data is a string, but it could be that some objects are strings, others are numbers, others are something else. \n",
    "\n",
    "**To treat this column as a column of strings, I will have to convert each element to a string explicitly with the `str()` method, or the entire column with `astype(str)`**"
   ]
  },
  {
   "cell_type": "markdown",
   "metadata": {},
   "source": [
    "## Validation\n",
    "\n",
    "How do I know if the column can be converted to floats?\n",
    "\n",
    "I used the `pandas.Series.astype(float)` function: \n",
    "\n",
    "\n",
    "```python\n",
    "# This is a way to validate if my column can be converted to float\n",
    "# If the column is clean, this will not throw an error\n",
    "df['item-price'].astype(float)\n",
    "```\n",
    "\n",
    "```python\n",
    "ValueError: could not convert string to float: '£10.00'\n",
    "```"
   ]
  },
  {
   "cell_type": "markdown",
   "metadata": {},
   "source": [
    "GitHub Copilot pointed me an alternative way to check for errors in the conversion using AI.\n",
    "\n",
    "I like this one as it doesn't throw any errors:"
   ]
  },
  {
   "cell_type": "code",
   "execution_count": 4,
   "metadata": {},
   "outputs": [
    {
     "name": "stdout",
     "output_type": "stream",
     "text": [
      "100.00% of the column cannot be directly converted to a float.\n"
     ]
    }
   ],
   "source": [
    "# Alternatively, I could check for errors like this:\n",
    "\n",
    "total_invalid_numbers = pd.to_numeric(df['item-price'], errors='coerce').isna().sum()\n",
    "ratio_invalid_numbers = 100*(total_invalid_numbers/len(df))\n",
    "\n",
    "print(f\"{ratio_invalid_numbers:.2f}% of the column cannot be directly converted to a float.\")"
   ]
  },
  {
   "cell_type": "markdown",
   "metadata": {},
   "source": [
    "## A fix for the problem"
   ]
  },
  {
   "cell_type": "code",
   "execution_count": 5,
   "metadata": {},
   "outputs": [],
   "source": [
    "def clean_item_price(item_price: str): \n",
    "\n",
    "    # Force the item_price to be a string before doing anything else\n",
    "    item_price = str(item_price)\n",
    "\n",
    "    if ' each est.' in item_price:\n",
    "        # Remove this string from item_price \n",
    "        # After this line, the same old code will still work!\n",
    "        item_price = item_price.removesuffix(' each est.')\n",
    "\n",
    "    if '-' in item_price:\n",
    "        # If this has a range, like: item_price = '£55-£110'\n",
    "        # The code below converts it to just '£55'\n",
    "        item_price = item_price.split('-')[0]\n",
    "\n",
    "    if '£' in item_price:\n",
    "        # For example: item_price = '£1.99' --> '1.99'\n",
    "        new_item_price = item_price.replace('£', '')\n",
    "    elif item_price.endswith('p'):\n",
    "        # For example: item_price = '75p' --> '0.75p'\n",
    "        new_item_price = '0.' + item_price.replace('p', '')\n",
    "    else:\n",
    "        # Keep it as is and hope it doesn't throw any new errors\n",
    "        new_item_price = item_price\n",
    "    \n",
    "    return new_item_price"
   ]
  },
  {
   "cell_type": "markdown",
   "metadata": {},
   "source": [
    "Checking that the function above works for individual cases:"
   ]
  },
  {
   "cell_type": "code",
   "execution_count": 6,
   "metadata": {},
   "outputs": [
    {
     "data": {
      "text/plain": [
       "'1.99'"
      ]
     },
     "execution_count": 6,
     "metadata": {},
     "output_type": "execute_result"
    }
   ],
   "source": [
    "clean_item_price('£1.99')"
   ]
  },
  {
   "cell_type": "code",
   "execution_count": 7,
   "metadata": {},
   "outputs": [
    {
     "data": {
      "text/plain": [
       "'0.75'"
      ]
     },
     "execution_count": 7,
     "metadata": {},
     "output_type": "execute_result"
    }
   ],
   "source": [
    "clean_item_price('75p')"
   ]
  },
  {
   "cell_type": "code",
   "execution_count": 8,
   "metadata": {},
   "outputs": [
    {
     "data": {
      "text/plain": [
       "'4.76'"
      ]
     },
     "execution_count": 8,
     "metadata": {},
     "output_type": "execute_result"
    }
   ],
   "source": [
    "clean_item_price('£4.76 each est.')"
   ]
  },
  {
   "cell_type": "code",
   "execution_count": 9,
   "metadata": {},
   "outputs": [
    {
     "data": {
      "text/plain": [
       "'0.10'"
      ]
     },
     "execution_count": 9,
     "metadata": {},
     "output_type": "execute_result"
    }
   ],
   "source": [
    "clean_item_price('10p each est.')"
   ]
  },
  {
   "cell_type": "code",
   "execution_count": 10,
   "metadata": {},
   "outputs": [
    {
     "data": {
      "text/plain": [
       "'55'"
      ]
     },
     "execution_count": 10,
     "metadata": {},
     "output_type": "execute_result"
    }
   ],
   "source": [
    "clean_item_price('£55-£110')"
   ]
  },
  {
   "cell_type": "code",
   "execution_count": 11,
   "metadata": {},
   "outputs": [
    {
     "data": {
      "text/plain": [
       "'55'"
      ]
     },
     "execution_count": 11,
     "metadata": {},
     "output_type": "execute_result"
    }
   ],
   "source": [
    "# Awesome!\n",
    "clean_item_price('£55-£110 each est.')"
   ]
  },
  {
   "cell_type": "markdown",
   "metadata": {},
   "source": [
    "## Validation (again)\n",
    "\n",
    "- Use the `apply()` function to modify all the elements of the column.\n",
    "- Save the output to a separate Series\n",
    "- Check how many elements of that new Series is now free of errors when converting to floats"
   ]
  },
  {
   "cell_type": "code",
   "execution_count": 12,
   "metadata": {},
   "outputs": [
    {
     "name": "stdout",
     "output_type": "stream",
     "text": [
      "0.04% of the column cannot be directly converted to a float.\n"
     ]
    }
   ],
   "source": [
    "# Alternatively, I could check for errors like this:\n",
    "\n",
    "new_item_price = df['item-price'].apply(clean_item_price)\n",
    "\n",
    "total_invalid_numbers = pd.to_numeric(new_item_price, errors='coerce').isna().sum()\n",
    "ratio_invalid_numbers = 100*(total_invalid_numbers/len(df))\n",
    "\n",
    "print(f\"{ratio_invalid_numbers:.2f}% of the column cannot be directly converted to a float.\")"
   ]
  },
  {
   "cell_type": "markdown",
   "metadata": {},
   "source": [
    "**Success!** Nearly ALL of the data has been clean now! There are just 0.04% of cases with problems"
   ]
  },
  {
   "cell_type": "markdown",
   "metadata": {},
   "source": [
    "## Final investigations\n",
    "\n",
    "What are the remaining cases?"
   ]
  },
  {
   "cell_type": "code",
   "execution_count": 13,
   "metadata": {},
   "outputs": [
    {
     "data": {
      "text/plain": [
       "0       False\n",
       "1       False\n",
       "2       False\n",
       "3       False\n",
       "4       False\n",
       "        ...  \n",
       "1589    False\n",
       "1590    False\n",
       "1591    False\n",
       "1592    False\n",
       "1593    False\n",
       "Name: item-price, Length: 25418, dtype: bool"
      ]
     },
     "execution_count": 13,
     "metadata": {},
     "output_type": "execute_result"
    }
   ],
   "source": [
    "# Returns a boolean Series (just Trues and Falses)\n",
    "# Whenever the output is True: \n",
    "#   it means that when pandas tried to convert it to a numeric, it saw a NaN (not a number)\n",
    "# Whenever the output is False:\n",
    "#   the clean_item_price() function removed the non-numerical characters\n",
    "#   and pandas was able to convert the remaining string to a numerical without an issue\n",
    "problematic_rows = pd.to_numeric(new_item_price, errors='coerce').isna()\n",
    "\n",
    "# See how this looks like\n",
    "problematic_rows"
   ]
  },
  {
   "cell_type": "markdown",
   "metadata": {},
   "source": [
    "How does df['item-price'] looks like for cases where `problematic_rows == True`?  "
   ]
  },
  {
   "cell_type": "code",
   "execution_count": 14,
   "metadata": {},
   "outputs": [
    {
     "data": {
      "text/plain": [
       "48    NaN\n",
       "49    NaN\n",
       "48    NaN\n",
       "49    NaN\n",
       "48    NaN\n",
       "49    NaN\n",
       "24    NaN\n",
       "48    NaN\n",
       "49    NaN\n",
       "48    NaN\n",
       "49    NaN\n",
       "Name: item-price, dtype: object"
      ]
     },
     "execution_count": 14,
     "metadata": {},
     "output_type": "execute_result"
    }
   ],
   "source": [
    "# 💡 Some strings have ranges of numbers! Adding to the list of scenarios above\n",
    "df['item-price'][problematic_rows == True].head(20)"
   ]
  },
  {
   "cell_type": "markdown",
   "metadata": {},
   "source": [
    "These are NaN to begin with. That is, these items never had a price.\n",
    "\n",
    "Instead of focusing just on the 'item-price' Series, let me look at more data about this product:"
   ]
  },
  {
   "cell_type": "code",
   "execution_count": 15,
   "metadata": {},
   "outputs": [
    {
     "data": {
      "text/html": [
       "<div>\n",
       "<style scoped>\n",
       "    .dataframe tbody tr th:only-of-type {\n",
       "        vertical-align: middle;\n",
       "    }\n",
       "\n",
       "    .dataframe tbody tr th {\n",
       "        vertical-align: top;\n",
       "    }\n",
       "\n",
       "    .dataframe thead th {\n",
       "        text-align: right;\n",
       "    }\n",
       "</style>\n",
       "<table border=\"1\" class=\"dataframe\">\n",
       "  <thead>\n",
       "    <tr style=\"text-align: right;\">\n",
       "      <th></th>\n",
       "      <th>data-product-id</th>\n",
       "      <th>data-product-name</th>\n",
       "      <th>data-product-type</th>\n",
       "      <th>data-product-on-offer</th>\n",
       "      <th>data-product-index</th>\n",
       "      <th>image-url</th>\n",
       "      <th>product-page</th>\n",
       "      <th>product-name</th>\n",
       "      <th>product-size</th>\n",
       "      <th>item-price</th>\n",
       "      <th>price-per-unit</th>\n",
       "      <th>offer-description</th>\n",
       "      <th>category</th>\n",
       "    </tr>\n",
       "  </thead>\n",
       "  <tbody>\n",
       "    <tr>\n",
       "      <th>48</th>\n",
       "      <td>85201</td>\n",
       "      <td>Essential Leeks</td>\n",
       "      <td>G</td>\n",
       "      <td>False</td>\n",
       "      <td>NaN</td>\n",
       "      <td>https://ecom-su-static-prod.wtrecom.com/images...</td>\n",
       "      <td>https://www.waitrose.com/ecom/products/essenti...</td>\n",
       "      <td>NaN</td>\n",
       "      <td>NaN</td>\n",
       "      <td>NaN</td>\n",
       "      <td>NaN</td>\n",
       "      <td>NaN</td>\n",
       "      <td>Dietary &amp; Lifestyle</td>\n",
       "    </tr>\n",
       "    <tr>\n",
       "      <th>49</th>\n",
       "      <td>85513</td>\n",
       "      <td>Duchy Organic Carrots</td>\n",
       "      <td>G</td>\n",
       "      <td>False</td>\n",
       "      <td>NaN</td>\n",
       "      <td>https://ecom-su-static-prod.wtrecom.com/images...</td>\n",
       "      <td>https://www.waitrose.com/ecom/products/duchy-o...</td>\n",
       "      <td>NaN</td>\n",
       "      <td>NaN</td>\n",
       "      <td>NaN</td>\n",
       "      <td>NaN</td>\n",
       "      <td>NaN</td>\n",
       "      <td>Dietary &amp; Lifestyle</td>\n",
       "    </tr>\n",
       "    <tr>\n",
       "      <th>48</th>\n",
       "      <td>85247</td>\n",
       "      <td>Essential Cauliflower</td>\n",
       "      <td>G</td>\n",
       "      <td>False</td>\n",
       "      <td>NaN</td>\n",
       "      <td>https://ecom-su-static-prod.wtrecom.com/images...</td>\n",
       "      <td>https://www.waitrose.com/ecom/products/essenti...</td>\n",
       "      <td>NaN</td>\n",
       "      <td>NaN</td>\n",
       "      <td>NaN</td>\n",
       "      <td>NaN</td>\n",
       "      <td>NaN</td>\n",
       "      <td>Fresh &amp; Chilled</td>\n",
       "    </tr>\n",
       "    <tr>\n",
       "      <th>49</th>\n",
       "      <td>86535</td>\n",
       "      <td>Waitrose Cherry Vine Tomatoes</td>\n",
       "      <td>G</td>\n",
       "      <td>True</td>\n",
       "      <td>NaN</td>\n",
       "      <td>https://ecom-su-static-prod.wtrecom.com/images...</td>\n",
       "      <td>https://www.waitrose.com/ecom/products/waitros...</td>\n",
       "      <td>NaN</td>\n",
       "      <td>NaN</td>\n",
       "      <td>NaN</td>\n",
       "      <td>NaN</td>\n",
       "      <td>25% Off. Was £2.35</td>\n",
       "      <td>Fresh &amp; Chilled</td>\n",
       "    </tr>\n",
       "    <tr>\n",
       "      <th>48</th>\n",
       "      <td>722909</td>\n",
       "      <td>John Lewis Bumble Bee Napkin 33cm</td>\n",
       "      <td>G</td>\n",
       "      <td>True</td>\n",
       "      <td>NaN</td>\n",
       "      <td>https://ecom-su-static-prod.wtrecom.com/images...</td>\n",
       "      <td>https://www.waitrose.com/ecom/products/john-le...</td>\n",
       "      <td>NaN</td>\n",
       "      <td>NaN</td>\n",
       "      <td>NaN</td>\n",
       "      <td>NaN</td>\n",
       "      <td>25% Off. Was £2.00</td>\n",
       "      <td>Home</td>\n",
       "    </tr>\n",
       "    <tr>\n",
       "      <th>49</th>\n",
       "      <td>624080</td>\n",
       "      <td>Cocktail Sticks Pot 150pk</td>\n",
       "      <td>G</td>\n",
       "      <td>False</td>\n",
       "      <td>NaN</td>\n",
       "      <td>https://ecom-su-static-prod.wtrecom.com/images...</td>\n",
       "      <td>https://www.waitrose.com/ecom/products/cocktai...</td>\n",
       "      <td>NaN</td>\n",
       "      <td>NaN</td>\n",
       "      <td>NaN</td>\n",
       "      <td>NaN</td>\n",
       "      <td>NaN</td>\n",
       "      <td>Home</td>\n",
       "    </tr>\n",
       "    <tr>\n",
       "      <th>24</th>\n",
       "      <td>522601</td>\n",
       "      <td>Essential Pedal Bin Liners Tie Handles</td>\n",
       "      <td>G</td>\n",
       "      <td>False</td>\n",
       "      <td>25.0</td>\n",
       "      <td>https://ecom-su-static-prod.wtrecom.com/images...</td>\n",
       "      <td>https://www.waitrose.com/ecom/products/essenti...</td>\n",
       "      <td>NaN</td>\n",
       "      <td>NaN</td>\n",
       "      <td>NaN</td>\n",
       "      <td>NaN</td>\n",
       "      <td>NaN</td>\n",
       "      <td>Household</td>\n",
       "    </tr>\n",
       "    <tr>\n",
       "      <th>48</th>\n",
       "      <td>522314</td>\n",
       "      <td>Waitrose Red Leicester Cheese &amp; Sriracha Burge...</td>\n",
       "      <td>G</td>\n",
       "      <td>False</td>\n",
       "      <td>NaN</td>\n",
       "      <td>https://ecom-su-static-prod.wtrecom.com/images...</td>\n",
       "      <td>https://www.waitrose.com/ecom/products/waitros...</td>\n",
       "      <td>NaN</td>\n",
       "      <td>NaN</td>\n",
       "      <td>NaN</td>\n",
       "      <td>NaN</td>\n",
       "      <td>NaN</td>\n",
       "      <td>Summer</td>\n",
       "    </tr>\n",
       "    <tr>\n",
       "      <th>49</th>\n",
       "      <td>750319</td>\n",
       "      <td>Waitrose 2 Lemon &amp; Lime Daisy Cheesecakes</td>\n",
       "      <td>G</td>\n",
       "      <td>True</td>\n",
       "      <td>NaN</td>\n",
       "      <td>https://ecom-su-static-prod.wtrecom.com/images...</td>\n",
       "      <td>https://www.waitrose.com/ecom/products/waitros...</td>\n",
       "      <td>NaN</td>\n",
       "      <td>NaN</td>\n",
       "      <td>NaN</td>\n",
       "      <td>NaN</td>\n",
       "      <td>25% Off. Was £4.00</td>\n",
       "      <td>Summer</td>\n",
       "    </tr>\n",
       "    <tr>\n",
       "      <th>48</th>\n",
       "      <td>67459</td>\n",
       "      <td>No.1 Royal Deeside Still Water</td>\n",
       "      <td>G</td>\n",
       "      <td>False</td>\n",
       "      <td>NaN</td>\n",
       "      <td>https://ecom-su-static-prod.wtrecom.com/images...</td>\n",
       "      <td>https://www.waitrose.com/ecom/products/no1-roy...</td>\n",
       "      <td>NaN</td>\n",
       "      <td>NaN</td>\n",
       "      <td>NaN</td>\n",
       "      <td>NaN</td>\n",
       "      <td>NaN</td>\n",
       "      <td>Tea, Coffee &amp; Soft Drinks</td>\n",
       "    </tr>\n",
       "    <tr>\n",
       "      <th>49</th>\n",
       "      <td>69460</td>\n",
       "      <td>Waitrose Pineapple Fruit Juice</td>\n",
       "      <td>G</td>\n",
       "      <td>False</td>\n",
       "      <td>NaN</td>\n",
       "      <td>https://ecom-su-static-prod.wtrecom.com/images...</td>\n",
       "      <td>https://www.waitrose.com/ecom/products/waitros...</td>\n",
       "      <td>NaN</td>\n",
       "      <td>NaN</td>\n",
       "      <td>NaN</td>\n",
       "      <td>NaN</td>\n",
       "      <td>NaN</td>\n",
       "      <td>Tea, Coffee &amp; Soft Drinks</td>\n",
       "    </tr>\n",
       "  </tbody>\n",
       "</table>\n",
       "</div>"
      ],
      "text/plain": [
       "    data-product-id                                  data-product-name  \\\n",
       "48            85201                                    Essential Leeks   \n",
       "49            85513                              Duchy Organic Carrots   \n",
       "48            85247                              Essential Cauliflower   \n",
       "49            86535                      Waitrose Cherry Vine Tomatoes   \n",
       "48           722909                  John Lewis Bumble Bee Napkin 33cm   \n",
       "49           624080                          Cocktail Sticks Pot 150pk   \n",
       "24           522601             Essential Pedal Bin Liners Tie Handles   \n",
       "48           522314  Waitrose Red Leicester Cheese & Sriracha Burge...   \n",
       "49           750319          Waitrose 2 Lemon & Lime Daisy Cheesecakes   \n",
       "48            67459                     No.1 Royal Deeside Still Water   \n",
       "49            69460                     Waitrose Pineapple Fruit Juice   \n",
       "\n",
       "   data-product-type  data-product-on-offer  data-product-index  \\\n",
       "48                 G                  False                 NaN   \n",
       "49                 G                  False                 NaN   \n",
       "48                 G                  False                 NaN   \n",
       "49                 G                   True                 NaN   \n",
       "48                 G                   True                 NaN   \n",
       "49                 G                  False                 NaN   \n",
       "24                 G                  False                25.0   \n",
       "48                 G                  False                 NaN   \n",
       "49                 G                   True                 NaN   \n",
       "48                 G                  False                 NaN   \n",
       "49                 G                  False                 NaN   \n",
       "\n",
       "                                            image-url  \\\n",
       "48  https://ecom-su-static-prod.wtrecom.com/images...   \n",
       "49  https://ecom-su-static-prod.wtrecom.com/images...   \n",
       "48  https://ecom-su-static-prod.wtrecom.com/images...   \n",
       "49  https://ecom-su-static-prod.wtrecom.com/images...   \n",
       "48  https://ecom-su-static-prod.wtrecom.com/images...   \n",
       "49  https://ecom-su-static-prod.wtrecom.com/images...   \n",
       "24  https://ecom-su-static-prod.wtrecom.com/images...   \n",
       "48  https://ecom-su-static-prod.wtrecom.com/images...   \n",
       "49  https://ecom-su-static-prod.wtrecom.com/images...   \n",
       "48  https://ecom-su-static-prod.wtrecom.com/images...   \n",
       "49  https://ecom-su-static-prod.wtrecom.com/images...   \n",
       "\n",
       "                                         product-page product-name  \\\n",
       "48  https://www.waitrose.com/ecom/products/essenti...          NaN   \n",
       "49  https://www.waitrose.com/ecom/products/duchy-o...          NaN   \n",
       "48  https://www.waitrose.com/ecom/products/essenti...          NaN   \n",
       "49  https://www.waitrose.com/ecom/products/waitros...          NaN   \n",
       "48  https://www.waitrose.com/ecom/products/john-le...          NaN   \n",
       "49  https://www.waitrose.com/ecom/products/cocktai...          NaN   \n",
       "24  https://www.waitrose.com/ecom/products/essenti...          NaN   \n",
       "48  https://www.waitrose.com/ecom/products/waitros...          NaN   \n",
       "49  https://www.waitrose.com/ecom/products/waitros...          NaN   \n",
       "48  https://www.waitrose.com/ecom/products/no1-roy...          NaN   \n",
       "49  https://www.waitrose.com/ecom/products/waitros...          NaN   \n",
       "\n",
       "   product-size item-price price-per-unit   offer-description  \\\n",
       "48          NaN        NaN            NaN                 NaN   \n",
       "49          NaN        NaN            NaN                 NaN   \n",
       "48          NaN        NaN            NaN                 NaN   \n",
       "49          NaN        NaN            NaN  25% Off. Was £2.35   \n",
       "48          NaN        NaN            NaN  25% Off. Was £2.00   \n",
       "49          NaN        NaN            NaN                 NaN   \n",
       "24          NaN        NaN            NaN                 NaN   \n",
       "48          NaN        NaN            NaN                 NaN   \n",
       "49          NaN        NaN            NaN  25% Off. Was £4.00   \n",
       "48          NaN        NaN            NaN                 NaN   \n",
       "49          NaN        NaN            NaN                 NaN   \n",
       "\n",
       "                     category  \n",
       "48        Dietary & Lifestyle  \n",
       "49        Dietary & Lifestyle  \n",
       "48            Fresh & Chilled  \n",
       "49            Fresh & Chilled  \n",
       "48                       Home  \n",
       "49                       Home  \n",
       "24                  Household  \n",
       "48                     Summer  \n",
       "49                     Summer  \n",
       "48  Tea, Coffee & Soft Drinks  \n",
       "49  Tea, Coffee & Soft Drinks  "
      ]
     },
     "execution_count": 15,
     "metadata": {},
     "output_type": "execute_result"
    }
   ],
   "source": [
    "df[problematic_rows == True]"
   ]
  },
  {
   "cell_type": "markdown",
   "metadata": {},
   "source": [
    "This was either an error on the script that downloaded this data. When I look at the product pages online, they do have prices, but not on the data frame.\n",
    "\n",
    "I'd say we remove these lines from the dataframe."
   ]
  },
  {
   "cell_type": "markdown",
   "metadata": {},
   "source": [
    "# 3. Recreating the `item-price` column\n",
    "\n",
    "Now that I know my function works, let me substitute the item-price column for the new version.\n",
    "\n",
    "I will do this in a few steps."
   ]
  },
  {
   "cell_type": "code",
   "execution_count": 16,
   "metadata": {},
   "outputs": [
    {
     "name": "stdout",
     "output_type": "stream",
     "text": [
      "There are 11 rows with NaN in the original DataFrame\n",
      "There will be 25407 rows left once we remove those\n"
     ]
    }
   ],
   "source": [
    "# Step 1: Identify the valid rows (those that do not contain a NaN number for item-price)\n",
    "\n",
    "# The tilde in Pandas inverts the boolean values.\n",
    "# Whatever was True because False and vice versa\n",
    "valid_rows = ~ problematic_rows\n",
    "\n",
    "print(f\"There are {sum(problematic_rows)} rows with NaN in the original DataFrame\")\n",
    "print(f\"There will be {sum(valid_rows)} rows left once we remove those\")"
   ]
  },
  {
   "cell_type": "code",
   "execution_count": 17,
   "metadata": {},
   "outputs": [],
   "source": [
    "# Step 2: Filter the DataFrame to keep just the valid rows\n",
    "\n",
    "df = df[valid_rows].copy()"
   ]
  },
  {
   "cell_type": "code",
   "execution_count": 18,
   "metadata": {},
   "outputs": [
    {
     "data": {
      "text/plain": [
       "0        3.15\n",
       "1        3.15\n",
       "2       13.50\n",
       "3        0.95\n",
       "4        1.60\n",
       "        ...  \n",
       "1589    24.31\n",
       "1590     2.40\n",
       "1591    10.00\n",
       "1592     2.50\n",
       "1593    21.49\n",
       "Name: item-price, Length: 25407, dtype: float64"
      ]
     },
     "execution_count": 18,
     "metadata": {},
     "output_type": "execute_result"
    }
   ],
   "source": [
    "# Step 3: Now I'm ready to apply the astype(float) function.\n",
    "#         Let me test that it works first\n",
    "#         IF THE CODE BELOW DOES NOT THROW ANY ERROR, THEN IT WORKED!\n",
    "df['item-price'].apply(clean_item_price).astype(float)"
   ]
  },
  {
   "cell_type": "code",
   "execution_count": 19,
   "metadata": {},
   "outputs": [],
   "source": [
    "# Step 4: Because I can see the above worked, \n",
    "#         I will override the item-price column with its float version\n",
    "df['item-price'] = df['item-price'].apply(clean_item_price).astype(float)"
   ]
  },
  {
   "cell_type": "code",
   "execution_count": 20,
   "metadata": {},
   "outputs": [
    {
     "data": {
      "text/plain": [
       "dtype('float64')"
      ]
     },
     "execution_count": 20,
     "metadata": {},
     "output_type": "execute_result"
    }
   ],
   "source": [
    "# Step 5: Check that it worked\n",
    "df['item-price'].dtype"
   ]
  },
  {
   "cell_type": "code",
   "execution_count": 21,
   "metadata": {},
   "outputs": [
    {
     "data": {
      "text/plain": [
       "True"
      ]
     },
     "execution_count": 21,
     "metadata": {},
     "output_type": "execute_result"
    }
   ],
   "source": [
    "# All numbers are proper numbers. There isn't a single NaN here\n",
    "df['item-price'].isna().sum() == 0"
   ]
  },
  {
   "cell_type": "markdown",
   "metadata": {},
   "source": [
    "# 4. Plotting the Data\n",
    "\n",
    "Even though I don't understand the code below, this should work. I just had to add an import to the top"
   ]
  },
  {
   "cell_type": "code",
   "execution_count": 22,
   "metadata": {},
   "outputs": [
    {
     "data": {
      "text/html": [
       "   <div id=\"9KSmp0\"></div>\n",
       "   <script type=\"text/javascript\" data-lets-plot-script=\"plot\">\n",
       "       (function() {\n",
       "           var plotSpec={\n",
       "\"data\":{\n",
       "\"category\":[\"Everyday Value\",\"Waitrose Brands\",\"Bakery\",\"Food Cupboard\",\"Dietary & Lifestyle\",\"Fresh & Chilled\",\"Organic Shop\",\"Baby, Child & Parent\",\"New\",\"Tea, Coffee & Soft Drinks\",\"Frozen\",\"Summer\",\"Pet\",\"Best of British\",\"Household\",\"Toiletries, Health & Beauty\",\"Home\",\"Beer, Wine & Spirits\"],\n",
       "\"Q1\":[1.1,1.4,1.6,1.6,1.95,2.0,2.0,1.8,2.5,2.1,2.65,2.5,2.275,2.7125000000000004,2.95,3.16,3.0,5.49],\n",
       "\"median\":[1.35,2.1,2.2,2.25,2.75,2.9,2.95,3.15,3.5,3.5,3.5,3.75,4.1,4.15,4.5,5.6,5.99,9.99],\n",
       "\"Q3\":[2.0,3.4,3.15,3.0,4.0,4.12,5.0,7.3,6.0,4.75,4.4625,6.15,7.5,6.0,7.0,10.0,10.5,17.99]\n",
       "},\n",
       "\"mapping\":{\n",
       "\"x\":\"median\",\n",
       "\"y\":\"category\",\n",
       "\"xmin\":\"Q1\",\n",
       "\"xmax\":\"Q3\",\n",
       "\"fill\":\"category\"\n",
       "},\n",
       "\"data_meta\":{\n",
       "\"series_annotations\":[{\n",
       "\"type\":\"str\",\n",
       "\"column\":\"category\"\n",
       "},{\n",
       "\"type\":\"float\",\n",
       "\"column\":\"count\"\n",
       "},{\n",
       "\"type\":\"float\",\n",
       "\"column\":\"mean\"\n",
       "},{\n",
       "\"type\":\"float\",\n",
       "\"column\":\"std\"\n",
       "},{\n",
       "\"type\":\"float\",\n",
       "\"column\":\"min\"\n",
       "},{\n",
       "\"type\":\"float\",\n",
       "\"column\":\"Q1\"\n",
       "},{\n",
       "\"type\":\"float\",\n",
       "\"column\":\"median\"\n",
       "},{\n",
       "\"type\":\"float\",\n",
       "\"column\":\"Q3\"\n",
       "},{\n",
       "\"type\":\"float\",\n",
       "\"column\":\"max\"\n",
       "}]\n",
       "},\n",
       "\"ggtitle\":{\n",
       "\"text\":\"\\\"Beer, Wine & Spirits\\\" has the highest median price for individual items\",\n",
       "\"subtitle\":\"Dots represent the median price, bars represent the 25th and 75th percentiles\"\n",
       "},\n",
       "\"theme\":{\n",
       "\"axis_title_x\":{\n",
       "\"size\":20.0,\n",
       "\"blank\":false\n",
       "},\n",
       "\"axis_title_y\":{\n",
       "\"size\":20.0,\n",
       "\"blank\":false\n",
       "},\n",
       "\"axis_text_x\":{\n",
       "\"size\":15.0,\n",
       "\"blank\":false\n",
       "},\n",
       "\"axis_text_y\":{\n",
       "\"size\":17.0,\n",
       "\"blank\":false\n",
       "},\n",
       "\"legend_position\":\"none\",\n",
       "\"plot_title\":{\n",
       "\"face\":\"bold\",\n",
       "\"size\":19.0,\n",
       "\"blank\":false\n",
       "},\n",
       "\"plot_subtitle\":{\n",
       "\"size\":18.0,\n",
       "\"blank\":false\n",
       "}\n",
       "},\n",
       "\"ggsize\":{\n",
       "\"width\":1000.0,\n",
       "\"height\":500.0\n",
       "},\n",
       "\"kind\":\"plot\",\n",
       "\"scales\":[{\n",
       "\"aesthetic\":\"fill\",\n",
       "\"guide\":\"none\",\n",
       "\"discrete\":true\n",
       "},{\n",
       "\"name\":\"Categories\\n(from largest to smallest median)\",\n",
       "\"aesthetic\":\"y\",\n",
       "\"expand\":[0.05,0.05]\n",
       "},{\n",
       "\"name\":\"Price (£)\",\n",
       "\"aesthetic\":\"x\",\n",
       "\"breaks\":[0.0,2.5,5.0,7.5,10.0,12.5,15.0,17.5],\n",
       "\"expand\":[0.0,0.05],\n",
       "\"format\":\"£ {.2f}\"\n",
       "}],\n",
       "\"layers\":[{\n",
       "\"geom\":\"linerange\",\n",
       "\"mapping\":{\n",
       "},\n",
       "\"tooltips\":{\n",
       "\"formats\":[{\n",
       "\"field\":\"@Q1\",\n",
       "\"format\":\"£ {.2f}\"\n",
       "},{\n",
       "\"field\":\"@median\",\n",
       "\"format\":\"£ {.2f}\"\n",
       "},{\n",
       "\"field\":\"@Q3\",\n",
       "\"format\":\"£ {.2f}\"\n",
       "}],\n",
       "\"lines\":[\"@category\",\"[@Q1 -- @median -- @Q3]\"]\n",
       "},\n",
       "\"data_meta\":{\n",
       "},\n",
       "\"size\":1.0,\n",
       "\"alpha\":0.75,\n",
       "\"data\":{\n",
       "}\n",
       "},{\n",
       "\"geom\":\"point\",\n",
       "\"mapping\":{\n",
       "},\n",
       "\"tooltips\":{\n",
       "\"formats\":[{\n",
       "\"field\":\"@Q1\",\n",
       "\"format\":\"£ {.2f}\"\n",
       "},{\n",
       "\"field\":\"@median\",\n",
       "\"format\":\"£ {.2f}\"\n",
       "},{\n",
       "\"field\":\"@Q3\",\n",
       "\"format\":\"£ {.2f}\"\n",
       "}],\n",
       "\"lines\":[\"@category\",\"[@Q1 -- @median -- @Q3]\"]\n",
       "},\n",
       "\"data_meta\":{\n",
       "},\n",
       "\"size\":3.0,\n",
       "\"stroke\":1.0,\n",
       "\"shape\":21.0,\n",
       "\"data\":{\n",
       "}\n",
       "}],\n",
       "\"metainfo_list\":[]\n",
       "};\n",
       "           var plotContainer = document.getElementById(\"9KSmp0\");\n",
       "           window.letsPlotCall(function() {{\n",
       "               LetsPlot.buildPlotFromProcessedSpecs(plotSpec, -1, -1, plotContainer);\n",
       "           }});\n",
       "       })();\n",
       "   </script>"
      ],
      "text/plain": [
       "<lets_plot.plot.core.PlotSpec at 0x1af8c65ad10>"
      ]
     },
     "execution_count": 22,
     "metadata": {},
     "output_type": "execute_result"
    }
   ],
   "source": [
    "\n",
    "plot_df = (\n",
    "    df.groupby('category')['item-price'].describe()\n",
    "        .reset_index()\n",
    "        .rename(columns={'25%': 'Q1', '50%': 'median', '75%': 'Q3'})\n",
    "        .sort_values(by='median')\n",
    ")\n",
    "\n",
    "# plot_df.head() to see how it looks like\n",
    "\n",
    "# This configures what shows up when you hover your mouse over the plot.\n",
    "tooltip_setup = (\n",
    "    layer_tooltips()\n",
    "        .line('@category')\n",
    "        .line('[@Q1 -- @median -- @Q3]')\n",
    "        .format('@Q1', '£ {.2f}')\n",
    "        .format('@median', '£ {.2f}')\n",
    "        .format('@Q3', '£ {.2f}')\n",
    ")\n",
    "\n",
    "g = (\n",
    "    # Maps the columns to the aesthetics of the plot.\n",
    "    ggplot(plot_df, aes(y='category', x='median', xmin='Q1', xmax='Q3', fill='category')) +\n",
    "\n",
    "    # GEOMS\n",
    "\n",
    "    # Add a line range that 'listens to' columns informed in `ymin` and `ymax` aesthetics\n",
    "    geom_linerange(size=1, alpha=0.75, tooltips=tooltip_setup) +\n",
    "\n",
    "    # Add points to the plot (listen to `x` and `y` and fill aesthetics)\n",
    "    geom_point(size=3, stroke=1, shape=21, tooltips=tooltip_setup) +\n",
    "\n",
    "    # SCALES\n",
    "\n",
    "    # Remove the legend (we can already read the categories from the y-axis)\n",
    "    scale_fill_discrete(guide='none') +\n",
    "\n",
    "    # Specify names for the axes\n",
    "    scale_y_continuous(name=\"Categories\\n(from largest to smallest median)\", expand=[0.05, 0.05]) +\n",
    "    scale_x_continuous(name=\"Price (£)\", expand=[0., 0.05], format='£ {.2f}', breaks=np.arange(0, 20, 2.5)) +\n",
    "\n",
    "    # LABELS\n",
    "    # It's nice when the plot tells you the key takeaways\n",
    "    labs(title='\"Beer, Wine & Spirits\" has the highest median price for individual items',\n",
    "         subtitle=\"Dots represent the median price, bars represent the 25th and 75th percentiles\") +\n",
    "    theme(axis_text_x=element_text(size=15),\n",
    "        axis_text_y=element_text(size=17),\n",
    "        axis_title_x=element_text(size=20),\n",
    "        axis_title_y=element_text(size=20),\n",
    "        plot_title=element_text(size=19, face='bold'),\n",
    "        plot_subtitle=element_text(size=18),\n",
    "        legend_position='none') +\n",
    "    ggsize(1000, 500)\n",
    "\n",
    ")\n",
    "\n",
    "g"
   ]
  },
  {
   "cell_type": "markdown",
   "metadata": {},
   "source": [
    "**I CAN SEE A PLOT ABOVE WHEN I RUN THE ENTIRE NOTEBOOK FROM TOP TO BOTTOM!!**"
   ]
  }
 ],
 "metadata": {
  "kernelspec": {
   "display_name": "base",
   "language": "python",
   "name": "python3"
  },
  "language_info": {
   "codemirror_mode": {
    "name": "ipython",
    "version": 3
   },
   "file_extension": ".py",
   "mimetype": "text/x-python",
   "name": "python",
   "nbconvert_exporter": "python",
   "pygments_lexer": "ipython3",
   "version": "3.10.15"
  }
 },
 "nbformat": 4,
 "nbformat_minor": 2
}
