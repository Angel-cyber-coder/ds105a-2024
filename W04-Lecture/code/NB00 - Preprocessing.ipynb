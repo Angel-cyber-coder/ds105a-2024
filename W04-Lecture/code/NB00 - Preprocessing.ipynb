{
 "cells": [
  {
   "cell_type": "code",
   "execution_count": 1,
   "metadata": {},
   "outputs": [],
   "source": [
    "import os\n",
    "\n",
    "import pandas as pd"
   ]
  },
  {
   "cell_type": "markdown",
   "metadata": {},
   "source": [
    "# 1. Read all CSV files into a single data frame"
   ]
  },
  {
   "cell_type": "code",
   "execution_count": 2,
   "metadata": {},
   "outputs": [
    {
     "name": "stdout",
     "output_type": "stream",
     "text": [
      "<class 'pandas.core.frame.DataFrame'>\n",
      "Index: 25418 entries, 0 to 1294\n",
      "Data columns (total 13 columns):\n",
      " #   Column                 Non-Null Count  Dtype  \n",
      "---  ------                 --------------  -----  \n",
      " 0   data-product-id        25418 non-null  int64  \n",
      " 1   data-product-name      25418 non-null  object \n",
      " 2   data-product-type      25418 non-null  object \n",
      " 3   data-product-on-offer  25418 non-null  bool   \n",
      " 4   data-product-index     25408 non-null  float64\n",
      " 5   image-url              25418 non-null  object \n",
      " 6   product-page           25418 non-null  object \n",
      " 7   product-name           25407 non-null  object \n",
      " 8   product-size           25363 non-null  object \n",
      " 9   item-price             25407 non-null  object \n",
      " 10  price-per-unit         24976 non-null  object \n",
      " 11  offer-description      7201 non-null   object \n",
      " 12  category               25418 non-null  object \n",
      "dtypes: bool(1), float64(1), int64(1), object(10)\n",
      "memory usage: 2.5+ MB\n"
     ]
    }
   ],
   "source": [
    "# Identify the location of the original files\n",
    "# This represents the path: ../data/waitrose-2024-07\n",
    "data_folder = os.path.join('..', 'data', 'waitrose-2024-07')\n",
    "\n",
    "# Use a list comprehension to get all the files in the folder\n",
    "all_files = [os.path.join(data_folder, file) for file in os.listdir(data_folder) \n",
    "             if file.endswith('.csv')]\n",
    "\n",
    "# Print the list of files if you want to check\n",
    "# print(all_files)\n",
    "\n",
    "# Read every single file as a DataFrame\n",
    "# Save the dataframes in a list\n",
    "list_of_dfs = [pd.read_csv(file) for file in all_files]\n",
    "\n",
    "# Use pd.concat to concatenate all the files into a single DataFrame\n",
    "df = pd.concat(list_of_dfs)\n",
    "\n",
    "# Check that we have all the data\n",
    "df.info()"
   ]
  },
  {
   "cell_type": "markdown",
   "metadata": {},
   "source": [
    "# 2. Exploring the `item-price` column\n",
    "\n",
    "**What did I learn?**\n",
    "\n",
    "- Some numbers are in the format `£10.00` (with the pound symbol)\n",
    "- Others are in the format `75p` (indicating pences)\n",
    "- There might be others, I don't know."
   ]
  },
  {
   "cell_type": "markdown",
   "metadata": {},
   "source": [
    "How do I know? I tried to convert the string column to a float and got this error:\n",
    "\n",
    "```python\n",
    "# This is a way to validate if my column can be converted to float\n",
    "# If the column is clean, this will not throw an error\n",
    "df['item-price'].astype(float)\n",
    "```\n",
    "\n",
    "```python\n",
    "ValueError: could not convert string to float: '£10.00'\n",
    "```"
   ]
  },
  {
   "cell_type": "markdown",
   "metadata": {},
   "source": [
    "Then, I looked at the column a bit further and discovered the `p` situation:"
   ]
  },
  {
   "cell_type": "markdown",
   "metadata": {},
   "source": [
    "Possible solutions:\n",
    "\n",
    "```python\n",
    "float('£10.00'.replace('£', ''))\n",
    "float('75p'.replace('p', '')) # But then multiply by 100\n",
    "```\n"
   ]
  },
  {
   "cell_type": "markdown",
   "metadata": {},
   "source": [
    "I found an alternative way to check for errors in the conversion using AI:"
   ]
  },
  {
   "cell_type": "code",
   "execution_count": 4,
   "metadata": {},
   "outputs": [
    {
     "data": {
      "text/plain": [
       "1.0"
      ]
     },
     "execution_count": 4,
     "metadata": {},
     "output_type": "execute_result"
    }
   ],
   "source": [
    "# Alternatively, I could check for errors like this:\n",
    "pd.to_numeric(df['item-price'], errors='coerce').isna().sum()/len(df)"
   ]
  },
  {
   "cell_type": "code",
   "execution_count": 21,
   "metadata": {},
   "outputs": [
    {
     "data": {
      "text/plain": [
       "'1.99'"
      ]
     },
     "execution_count": 21,
     "metadata": {},
     "output_type": "execute_result"
    }
   ],
   "source": [
    "def clean_item_price(item_price: str): \n",
    "    # For example: item_price = '£1.99' --> '1.99'\n",
    "    new_item_price = str(item_price).replace('£', '')\n",
    "    return new_item_price\n",
    "\n",
    "\n",
    "clean_item_price('£1.99')"
   ]
  },
  {
   "cell_type": "code",
   "execution_count": 24,
   "metadata": {},
   "outputs": [
    {
     "data": {
      "text/plain": [
       "0       10.00\n",
       "1        9.00\n",
       "2        8.00\n",
       "3        4.00\n",
       "4         75p\n",
       "        ...  \n",
       "1290     2.65\n",
       "1291     4.00\n",
       "1292     4.00\n",
       "1293     4.75\n",
       "1294     3.80\n",
       "Name: item-price, Length: 25418, dtype: object"
      ]
     },
     "execution_count": 24,
     "metadata": {},
     "output_type": "execute_result"
    }
   ],
   "source": [
    "df['item-price'].apply(clean_item_price)"
   ]
  },
  {
   "cell_type": "code",
   "execution_count": 27,
   "metadata": {},
   "outputs": [
    {
     "data": {
      "text/plain": [
       "4.583366118498701"
      ]
     },
     "execution_count": 27,
     "metadata": {},
     "output_type": "execute_result"
    }
   ],
   "source": [
    "100 * (pd.to_numeric(df['item-price'].apply(clean_item_price), errors='coerce').isna().sum()/len(df))"
   ]
  }
 ],
 "metadata": {
  "kernelspec": {
   "display_name": "base",
   "language": "python",
   "name": "python3"
  },
  "language_info": {
   "codemirror_mode": {
    "name": "ipython",
    "version": 3
   },
   "file_extension": ".py",
   "mimetype": "text/x-python",
   "name": "python",
   "nbconvert_exporter": "python",
   "pygments_lexer": "ipython3",
   "version": "3.12.2"
  }
 },
 "nbformat": 4,
 "nbformat_minor": 2
}
